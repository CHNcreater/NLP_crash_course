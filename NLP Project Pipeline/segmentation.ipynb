{
 "metadata": {
  "language_info": {
   "codemirror_mode": {
    "name": "ipython",
    "version": 3
   },
   "file_extension": ".py",
   "mimetype": "text/x-python",
   "name": "python",
   "nbconvert_exporter": "python",
   "pygments_lexer": "ipython3",
   "version": "3.8"
  },
  "orig_nbformat": 2,
  "kernelspec": {
   "name": "pythonjvsc74a57bd0b5a9e7c591be8730f1f69f11569b60fae0cad5902768b78fa93b28266e60f0fb",
   "display_name": "Python 3.8.5 64-bit ('pt': conda)"
  },
  "metadata": {
   "interpreter": {
    "hash": "b5a9e7c591be8730f1f69f11569b60fae0cad5902768b78fa93b28266e60f0fb"
   }
  }
 },
 "nbformat": 4,
 "nbformat_minor": 2,
 "cells": [
  {
   "source": [
    "本代码的目的是写一个分词工具，分词工具有两个非常经典的底层算法，一个是前向最大匹配算法，一个是后向最大匹配算法。\n",
    "# 前向最大匹配算法"
   ],
   "cell_type": "markdown",
   "metadata": {}
  },
  {
   "source": [
    "def FMM(vocab:list, sentence:str, max_length=5):\n",
    "    \"\"\"\n",
    "    input:\n",
    "    vocab[list]: the list of vacab\n",
    "    sentence[str]: the sentence\n",
    "    max-length[int]: the max_length\n",
    "\n",
    "    return:\n",
    "    result[list]: the result of segmentation\n",
    "    \"\"\"\n",
    "    result = []\n",
    "    i = 0\n",
    "    while i<len(sentence):\n",
    "        print(i)\n",
    "        windows = sentence[i:i+max_length if i+max_length<len(sentence) else len(sentence)]\n",
    "        print(windows)\n",
    "        while True:\n",
    "            if windows in vocab:\n",
    "                result.append(windows)\n",
    "                i += len(windows)\n",
    "                break\n",
    "            else:\n",
    "                if len(windows)==1:\n",
    "                    result.append('[UNK]')\n",
    "                    i += 1\n",
    "                    break\n",
    "                windows = windows[:-1]\n",
    "                print(windows)\n",
    "    return result"
   ],
   "cell_type": "code",
   "metadata": {},
   "execution_count": 13,
   "outputs": []
  },
  {
   "source": [
    "# 后向最大匹配算法"
   ],
   "cell_type": "markdown",
   "metadata": {}
  },
  {
   "cell_type": "code",
   "execution_count": 20,
   "metadata": {},
   "outputs": [],
   "source": [
    "def BMM(vocab:list, sentence:str, max_length:int=5):\n",
    "    \"\"\"\n",
    "    input:\n",
    "    vocab[list]: the list of vacab\n",
    "    sentence[str]: the sentence\n",
    "    max-length[int]: the max_length\n",
    "\n",
    "    return:\n",
    "    result[list]: the result of segmentation\n",
    "    \"\"\"\n",
    "    result = []\n",
    "    i = len(sentence)\n",
    "    while i > 0:\n",
    "        print(i)\n",
    "        windows = sentence[i-max_length+1 if i-max_length+1 > 0 else 0:i]\n",
    "        print(windows)\n",
    "        while True:\n",
    "            if windows in vocab:\n",
    "                result.append(windows)\n",
    "                i -= len(windows)\n",
    "                break\n",
    "            else:\n",
    "                if len(windows)==1:\n",
    "                    result.append('[UNK]')\n",
    "                    i -= 1\n",
    "                    break\n",
    "                windows = windows[1:]\n",
    "                print(windows)\n",
    "    return result[::-1]"
   ]
  },
  {
   "source": [
    "# 维特比算法"
   ],
   "cell_type": "markdown",
   "metadata": {}
  },
  {
   "cell_type": "code",
   "execution_count": 27,
   "metadata": {},
   "outputs": [],
   "source": [
    "def Viterbi(vocab, vocab_frequency, sentence):\n",
    "    \"\"\"\n",
    "    input:\n",
    "    vocab[list]: vocabulary list\n",
    "    vocab_frequency[list]: probility list\n",
    "    sentence: sentence\n",
    "\n",
    "    return:\n",
    "    result[list]: the segmentation result\n",
    "    \"\"\"\n",
    "    result = []\n",
    "    assert len(vocab)==len(vocab_frequency)\n",
    "    incoming = [0]*len(sentence)\n",
    "    shortest = [0]*len(sentence)\n",
    "    dag = {i:[] for i in range(len(sentence))}\n",
    "    for item in vocab:\n",
    "        index = sentence.find(item)\n",
    "        dag[index+len(item)-1].append(index)\n",
    "    print(dag)\n",
    "    for i in range(len(sentence)):\n",
    "        if i == 0:\n",
    "            incoming[i] = 0\n",
    "            shortest[i] = vo_fq[vocab.index(sentence[0])]\n",
    "        end = dag[i]\n",
    "        path_length = 100000\n",
    "        for j in end:\n",
    "            value = vo_fq[vocab.index(sentence[j:i+1])]\n",
    "            if j == 0:\n",
    "                if value < path_length:\n",
    "                    path_length = value\n",
    "                    incoming[i] = j\n",
    "                    shortest[i] = path_length\n",
    "            else:\n",
    "                if value+shortest[j-1] < path_length:\n",
    "                    path_length = value+shortest[j-1]\n",
    "                    incoming[i] = j-1\n",
    "                    shortest[i] = path_length\n",
    "    print(incoming,shortest)\n",
    "    start = incoming[-1]\n",
    "    end = len(sentence)\n",
    "    while start:\n",
    "        result.append(sentence[start+1:end])\n",
    "        end = start+1\n",
    "        start = incoming[start]\n",
    "        if start == 0:\n",
    "            result.append(sentence[start:end])\n",
    "            break\n",
    "    return result[::-1]\n"
   ]
  },
  {
   "cell_type": "code",
   "execution_count": 28,
   "metadata": {
    "tags": []
   },
   "outputs": [
    {
     "output_type": "stream",
     "name": "stdout",
     "text": [
      "{0: [0], 1: [0], 2: [2], 3: [2, 3], 4: [4], 5: [5], 6: [4, 5, 6], 7: [7], 8: [7, 8]}\n[0, 0, 1, 1, 3, 4, 3, 6, 6] [2.3, 1.6, 4.6, 3.9, 6.199999999999999, 9.2, 6.199999999999999, 8.5, 7.799999999999999]\n['我们', '经常', '有意见', '分歧']\n"
     ]
    }
   ],
   "source": [
    "if __name__ == '__main__':\n",
    "    vocab = ['我们','经常','我','经','常','有','有意见','意见','分歧','意','见','分','歧']\n",
    "    vo_fq = [1.6,2.3,2.3,3,3,2.3,2.3,1.6,1.6,3,3,2.3,2.3]\n",
    "    sentence = '我们经常有意见分歧'\n",
    "    # print(FMM(vocab=vocab,sentence=sentence,max_length=5))\n",
    "    # print(BMM(vocab=vocab,sentence=sentence,max_length=5))\n",
    "    print(Viterbi(vocab,vo_fq,sentence))"
   ]
  },
  {
   "cell_type": "code",
   "execution_count": null,
   "metadata": {},
   "outputs": [],
   "source": []
  }
 ]
}